{
 "cells": [
  {
   "cell_type": "markdown",
   "metadata": {},
   "source": [
    "# First, import all addresses and credentials (also stored in your environmental variables)"
   ]
  },
  {
   "cell_type": "code",
   "execution_count": 1,
   "metadata": {},
   "outputs": [
    {
     "ename": "ModuleNotFoundError",
     "evalue": "No module named 'super_mario'",
     "output_type": "error",
     "traceback": [
      "\u001b[0;31m---------------------------------------------------------------------------\u001b[0m",
      "\u001b[0;31mModuleNotFoundError\u001b[0m                       Traceback (most recent call last)",
      "\u001b[0;32m<ipython-input-1-0e9e9382001f>\u001b[0m in \u001b[0;36m<module>\u001b[0;34m\u001b[0m\n\u001b[0;32m----> 1\u001b[0;31m \u001b[0;32mfrom\u001b[0m \u001b[0msuper_mario\u001b[0m\u001b[0;34m.\u001b[0m\u001b[0mconfig\u001b[0m \u001b[0;32mimport\u001b[0m \u001b[0mDatabases\u001b[0m\u001b[0;34m\u001b[0m\u001b[0;34m\u001b[0m\u001b[0m\n\u001b[0m",
      "\u001b[0;31mModuleNotFoundError\u001b[0m: No module named 'super_mario'"
     ]
    }
   ],
   "source": [
    "from super_mario.config import Databases"
   ]
  },
  {
   "cell_type": "markdown",
   "metadata": {},
   "source": [
    "### Just to check if it works, print out some stuff:"
   ]
  },
  {
   "cell_type": "code",
   "execution_count": null,
   "metadata": {},
   "outputs": [],
   "source": [
    "print(Databases.REDSHIFT_DBNAME)\n",
    "print(Databases.REDSHIFT_USER)"
   ]
  },
  {
   "cell_type": "markdown",
   "metadata": {},
   "source": [
    "#### And now create a directory for temporary files for this demo"
   ]
  },
  {
   "cell_type": "code",
   "execution_count": null,
   "metadata": {},
   "outputs": [],
   "source": [
    "from pathlib import Path\n",
    "directory = Path('super-mario-test')\n",
    "directory.mkdir(exist_ok=True)"
   ]
  },
  {
   "cell_type": "markdown",
   "metadata": {},
   "source": [
    "## custom_logging.py"
   ]
  },
  {
   "cell_type": "markdown",
   "metadata": {},
   "source": [
    "##### Good practices in python programming say, that to monitor your code during the execution, you should add logging in the final version (not prints). Logging settings are rather crazy to make them work the right way, so in super-mario there is a module which will handle this for you."
   ]
  },
  {
   "cell_type": "code",
   "execution_count": null,
   "metadata": {},
   "outputs": [],
   "source": [
    "import logging\n",
    "from super_mario.custom_logging import setup_logging"
   ]
  },
  {
   "cell_type": "markdown",
   "metadata": {},
   "source": [
    "###### Here, as function paramaters you can pass: output_file - path to the file, if you want to save your logs in it; default is None console_loglevel - level of logging to display; possible options:\"DEBUG\", \"INFO\", \"WARNING\", \"ERROR\"; default: \"INFO\" file_loglevel - level of logging in the file; possible options:\"DEBUG\", \"INFO\", \"WARNING\", \"ERROR\"; default: None"
   ]
  },
  {
   "cell_type": "code",
   "execution_count": null,
   "metadata": {},
   "outputs": [],
   "source": [
    "setup_logging(console_loglevel=\"INFO\") # change these parameters and see what happens!\n",
    "LOGGER = logging.getLogger()\n",
    "LOGGER.debug(\"Debug logging.\")\n",
    "LOGGER.info(\"Info logging.\")\n",
    "LOGGER.warning(\"Warning logging.\")\n",
    "LOGGER.error(\"Error logging.\")\n",
    "LOGGER.error(\"Error logging.\")\n",
    "LOGGER.critical(\"Error logging.\")"
   ]
  },
  {
   "cell_type": "markdown",
   "metadata": {},
   "source": [
    "## s3_client.py"
   ]
  },
  {
   "cell_type": "code",
   "execution_count": null,
   "metadata": {},
   "outputs": [],
   "source": [
    "from super_mario.s3_client import S3Client\n",
    "s3 = S3Client(root=Databases.S3_ROOT_URL,\n",
    "                  # ADD YOUR KEYS TO ENVIRONMENTAL VARIABLES OR PASS THEM HERE\n",
    "                  access_key=Databases.AWS_ACCESS_KEY,\n",
    "                  secret_key=Databases.AWS_SECRET_ACCESS_KEY)\n",
    "bucket = Databases.S3_BUCKET_DATA_EXTRACTION"
   ]
  },
  {
   "cell_type": "code",
   "execution_count": null,
   "metadata": {},
   "outputs": [],
   "source": [
    "file_key = \"super-mario-test/Heetch.txt\""
   ]
  },
  {
   "cell_type": "code",
   "execution_count": null,
   "metadata": {},
   "outputs": [],
   "source": [
    "file = directory / 'Heetch.txt'\n",
    "file.write_text(\"Enjoy your night out\")"
   ]
  },
  {
   "cell_type": "markdown",
   "metadata": {},
   "source": [
    "### Browse files"
   ]
  },
  {
   "cell_type": "code",
   "execution_count": null,
   "metadata": {},
   "outputs": [],
   "source": [
    "s3.get_all_keys(bucket_name=bucket, prefix='super_mario', contains='retention')"
   ]
  }
 ],
 "metadata": {
  "kernelspec": {
   "display_name": "Python 3",
   "language": "python",
   "name": "python3"
  },
  "language_info": {
   "codemirror_mode": {
    "name": "ipython",
    "version": 3
   },
   "file_extension": ".py",
   "mimetype": "text/x-python",
   "name": "python",
   "nbconvert_exporter": "python",
   "pygments_lexer": "ipython3",
   "version": "3.7.7"
  }
 },
 "nbformat": 4,
 "nbformat_minor": 4
}
